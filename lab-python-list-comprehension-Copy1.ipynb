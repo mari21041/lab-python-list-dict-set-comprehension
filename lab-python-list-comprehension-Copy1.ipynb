{
 "cells": [
  {
   "cell_type": "markdown",
   "id": "25d7736c-ba17-4aff-b6bb-66eba20fbf4e",
   "metadata": {},
   "source": [
    "# Lab | List, Dict and Set Comprehension"
   ]
  },
  {
   "cell_type": "markdown",
   "id": "7dd3cbde-675a-4b81-92c3-f728846dbe06",
   "metadata": {},
   "source": [
    "## Exercise: Managing Customer Orders Optimized with Comprehension"
   ]
  },
  {
   "cell_type": "markdown",
   "id": "5d500160-2fb7-4777-b5e4-09d45ebaf328",
   "metadata": {},
   "source": [
    "In the previous exercise, you developed a program to manage customer orders and inventory. Now, let's take it a step further and incorporate comprehension into your code.\n",
    "\n",
    "Follow the steps below to complete the exercise:\n",
    "\n",
    "1. Review your code from the previous exercise and identify areas where you can apply comprehension to simplify and streamline your code. \n",
    "\n",
    "    - *Hint: Apply it to initialize inventory, updating the inventory and printing the updated inventory.*\n",
    "    \n",
    "    - For example, in initializing the inventory, we could have:\n",
    "    \n",
    "        ```python\n",
    "        def initialize_inventory(products):\n",
    "            inventory = {product: int(input(f\"Enter the quantity of {product}s available: \")) for product in products}\n",
    "            return inventory\n",
    "\n",
    "        ```\n",
    "<br>\n",
    "    \n",
    "    \n",
    "2. Modify the function get_customer_orders so it prompts the user to enter the number of customer orders and gathers the product names using a loop and user input. Use comprehension.\n",
    "\n",
    "3. Add a new function to calculate the total price of the customer order. For each product in customer_orders, prompt the user to enter the price of that product. Use comprehension to calculate the total price. Note: assume that the user can only have 1 unit of each product.\n",
    "\n",
    "4. Modify the update_inventory function to remove the product from the inventory if its quantity becomes zero after fulfilling the customer orders. Use comprehension to filter out the products with a quantity of zero from the inventory.\n",
    "\n",
    "5. Print the total price of the customer order.\n",
    "\n",
    "Your code should produce output similar to the following:\n",
    "\n",
    "```python\n",
    "Enter the quantity of t-shirts available:  5\n",
    "Enter the quantity of mugs available:  4\n",
    "Enter the quantity of hats available:  3\n",
    "Enter the quantity of books available:  2\n",
    "Enter the quantity of keychains available:  1\n",
    "Enter the number of customer orders:  2\n",
    "Enter the name of a product that a customer wants to order:  hat\n",
    "Enter the name of a product that a customer wants to order:  keychain\n",
    "\n",
    "Order Statistics:\n",
    "Total Products Ordered: 2\n",
    "Percentage of Unique Products Ordered: 40.0\n",
    "\n",
    "Updated Inventory:\n",
    "t-shirt: 5\n",
    "mug: 4\n",
    "hat: 2\n",
    "book: 2\n",
    "Enter the price of keychain:  5\n",
    "Enter the price of hat:  10\n",
    "Total Price: 15.0\n",
    "\n",
    "```\n"
   ]
  },
  {
   "cell_type": "code",
   "execution_count": 2,
   "id": "e51046cf-1f38-46b4-a28f-fa463549f151",
   "metadata": {},
   "outputs": [],
   "source": [
    "products_list = [\"t-shirt\", \"mug\", \"hat\", \"book\", \"keychain\"]"
   ]
  },
  {
   "cell_type": "code",
   "execution_count": 7,
   "id": "cbc2f956-a1a2-4a07-a2c8-8110e9666059",
   "metadata": {},
   "outputs": [
    {
     "name": "stdin",
     "output_type": "stream",
     "text": [
      "Enter the quantity of t-shirts available:  1\n",
      "Enter the quantity of mugs available:  1\n",
      "Enter the quantity of hats available:  2\n",
      "Enter the quantity of books available:  3\n",
      "Enter the quantity of keychains available:  4\n"
     ]
    },
    {
     "name": "stdout",
     "output_type": "stream",
     "text": [
      "{'t-shirt': 1, 'mug': 1, 'hat': 2, 'book': 3, 'keychain': 4}\n",
      "\n"
     ]
    },
    {
     "name": "stdin",
     "output_type": "stream",
     "text": [
      "enter product to order or type finish to finish book\n",
      "enter product to order or type finish to finish mug\n",
      "enter product to order or type finish to finish hat\n",
      "enter product to order or type finish to finish finish\n"
     ]
    },
    {
     "name": "stdout",
     "output_type": "stream",
     "text": [
      "{'book', 'hat', 'mug'}\n",
      "\n",
      "{'t-shirt': 1, 'mug': 0, 'hat': 1, 'book': 2, 'keychain': 4}\n",
      "\n",
      "(3, 60.0)\n",
      "\n",
      "(3, 60.0)\n",
      "\n",
      "the updated inventory is {'t-shirt': 1, 'mug': 0, 'hat': 1, 'book': 2, 'keychain': 4}\n",
      "None\n",
      "\n"
     ]
    },
    {
     "name": "stdin",
     "output_type": "stream",
     "text": [
      "enter the price of the product: book 3.5\n",
      "enter the price of the product: hat 4.6\n",
      "enter the price of the product: mug 5.7\n"
     ]
    },
    {
     "name": "stdout",
     "output_type": "stream",
     "text": [
      "13.8\n",
      "\n",
      "The final inventory is:  {'t-shirt': 1, 'hat': 1, 'book': 2, 'keychain': 4}\n"
     ]
    }
   ],
   "source": [
    "def initialize_inventory(products):\n",
    "    inventory = {product: int(input(f\"Enter the quantity of {product}s available: \")) for product in products}\n",
    "    return inventory\n",
    "        \n",
    "\n",
    "inventory = initialize_inventory(products_list)\n",
    "print(inventory) \n",
    "\n",
    "print()\n",
    "\n",
    "def get_customer_orders():\n",
    "    customer_orders= set()\n",
    "    while True:\n",
    "        order = input(\"enter product to order or type finish to finish\")\n",
    "        if order.lower() == 'finish':\n",
    "            break\n",
    "        customer_orders.add(order)\n",
    "    return customer_orders\n",
    "        \n",
    "order= get_customer_orders()  \n",
    "print(order)\n",
    "\n",
    "print()\n",
    "\n",
    "customer_orders= {'mug', 'hat', 'book'} \n",
    "\n",
    "def update_inventory(customer_orders, inventory):\n",
    "    inventory = {product: (amount- 1 if product in customer_orders else amount  )for product, amount in inventory.items() }\n",
    "    return inventory\n",
    "\n",
    "updated_inventory=update_inventory(customer_orders, inventory)\n",
    "print(updated_inventory) \n",
    "\n",
    "print()\n",
    "\n",
    "def calculate_order_statistics(customer_orders, products_list):\n",
    "    total_order = len(customer_orders)\n",
    "    percentage = (total_order/len(products_list))*100\n",
    "    return total_order, percentage\n",
    "\n",
    "stats =calculate_order_statistics(customer_orders, products_list)\n",
    "print(stats)\n",
    "\n",
    "print()\n",
    "\n",
    "def print_order_statistics(order_statistics):\n",
    "    print(f\"Total order: {total_order}\")\n",
    "    print(f\"Percentage: {percentage_order:.2f}%\")\n",
    "\n",
    "order_statistics = calculate_order_statistics(customer_orders, products_list)\n",
    "print(order_statistics)    \n",
    "\n",
    "print()\n",
    "\n",
    "def print_updated_inventory(updated_inventory):\n",
    "   final_inventory = {product:inventory[product] for product in products_list if product in updated_inventory}\n",
    "   return print(f\"the updated inventory is {updated_inventory}\")\n",
    "                      \n",
    "new_inventory= print_updated_inventory(updated_inventory)\n",
    "\n",
    "print(new_inventory)\n",
    "print()\n",
    "\n",
    "def total_price():\n",
    "    total_price = sum([float(input(f\"enter the price of the product: {item}\")) for item in customer_orders])\n",
    "    return total_price\n",
    "\n",
    "check_out=total_price()\n",
    "print(check_out)\n",
    "\n",
    "print()\n",
    "\n",
    "customer_orders= {'mug', 'hat', 'book'} \n",
    "\n",
    "def update_inventory(customer_orders, inventory):\n",
    "    inventory = {product: (amount- 1 if product in customer_orders else amount)for product, amount in inventory.items() }\n",
    "    inventory = {product: amount for product, amount in inventory.items() if amount > 0}\n",
    "    return inventory\n",
    " \n",
    "\n",
    "updated_inventory=update_inventory(customer_orders, inventory)\n",
    "print(f\"The final inventory is: \", updated_inventory)\n"
   ]
  },
  {
   "cell_type": "code",
   "execution_count": null,
   "id": "da146936-7080-4f9d-b79f-ec46536b6c05",
   "metadata": {},
   "outputs": [],
   "source": []
  },
  {
   "cell_type": "code",
   "execution_count": null,
   "id": "18f2391f-accc-4c0b-b62a-7dcfcf9f112a",
   "metadata": {},
   "outputs": [],
   "source": []
  }
 ],
 "metadata": {
  "kernelspec": {
   "display_name": "Python 3 (ipykernel)",
   "language": "python",
   "name": "python3"
  },
  "language_info": {
   "codemirror_mode": {
    "name": "ipython",
    "version": 3
   },
   "file_extension": ".py",
   "mimetype": "text/x-python",
   "name": "python",
   "nbconvert_exporter": "python",
   "pygments_lexer": "ipython3",
   "version": "3.12.7"
  }
 },
 "nbformat": 4,
 "nbformat_minor": 5
}
